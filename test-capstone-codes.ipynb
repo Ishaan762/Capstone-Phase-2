{
 "cells": [
  {
   "cell_type": "code",
   "execution_count": 1,
   "id": "a62c49c8",
   "metadata": {
    "_cell_guid": "b1076dfc-b9ad-4769-8c92-a6c4dae69d19",
    "_uuid": "8f2839f25d086af736a60e9eeb907d3b93b6e0e5",
    "execution": {
     "iopub.execute_input": "2024-09-13T17:19:27.837321Z",
     "iopub.status.busy": "2024-09-13T17:19:27.836568Z",
     "iopub.status.idle": "2024-09-13T17:19:30.066469Z",
     "shell.execute_reply": "2024-09-13T17:19:30.065437Z"
    },
    "papermill": {
     "duration": 2.236377,
     "end_time": "2024-09-13T17:19:30.068854",
     "exception": false,
     "start_time": "2024-09-13T17:19:27.832477",
     "status": "completed"
    },
    "tags": []
   },
   "outputs": [],
   "source": [
    "import pandas as pd\n",
    "satire_data = pd.read_csv('/kaggle/input/july29thcapstonedataset/satire_nsp_dataset.csv')\n",
    "non_satire_data = pd.read_csv('/kaggle/input/july29thcapstonedataset/TruenewsNSP.csv')\n",
    "satire_data = satire_data.rename(columns={'Headline': 'text'})\n",
    "non_satire_data = non_satire_data.rename(columns={'clean_title': 'text'})\n",
    "satire_data['label'] = 1  # All texts in satire_data are satire\n",
    "non_satire_data['label'] = 0  # All texts in non_satire_data are non-satire\n",
    "\n",
    "# Combine the datasets\n",
    "combined_data = pd.concat([satire_data, non_satire_data])\n",
    "df=combined_data"
   ]
  },
  {
   "cell_type": "code",
   "execution_count": 2,
   "id": "7046a473",
   "metadata": {
    "execution": {
     "iopub.execute_input": "2024-09-13T17:19:30.075607Z",
     "iopub.status.busy": "2024-09-13T17:19:30.074904Z",
     "iopub.status.idle": "2024-09-13T17:19:32.984961Z",
     "shell.execute_reply": "2024-09-13T17:19:32.983945Z"
    },
    "papermill": {
     "duration": 2.915839,
     "end_time": "2024-09-13T17:19:32.987414",
     "exception": false,
     "start_time": "2024-09-13T17:19:30.071575",
     "status": "completed"
    },
    "tags": []
   },
   "outputs": [],
   "source": [
    "def split_text_by_words(text):\n",
    "    words = text.split()\n",
    "    mid = len(words) // 2\n",
    "    \n",
    "    first_part = ' '.join(words[:mid])\n",
    "    second_part = ' '.join(words[mid:])\n",
    "    \n",
    "    return first_part, second_part\n",
    "\n",
    "df[['Part1', 'second_part']] = df['text'].apply(lambda x: pd.Series(split_text_by_words(x)))"
   ]
  },
  {
   "cell_type": "code",
   "execution_count": 3,
   "id": "bae303f0",
   "metadata": {
    "execution": {
     "iopub.execute_input": "2024-09-13T17:19:32.994649Z",
     "iopub.status.busy": "2024-09-13T17:19:32.993601Z",
     "iopub.status.idle": "2024-09-13T17:19:32.999750Z",
     "shell.execute_reply": "2024-09-13T17:19:32.998963Z"
    },
    "papermill": {
     "duration": 0.011758,
     "end_time": "2024-09-13T17:19:33.001721",
     "exception": false,
     "start_time": "2024-09-13T17:19:32.989963",
     "status": "completed"
    },
    "tags": []
   },
   "outputs": [],
   "source": [
    "df['Split_Headline_Responses']=str(df['Split_Headline_Responses'])"
   ]
  },
  {
   "cell_type": "code",
   "execution_count": 4,
   "id": "65d83aeb",
   "metadata": {
    "execution": {
     "iopub.execute_input": "2024-09-13T17:19:33.007602Z",
     "iopub.status.busy": "2024-09-13T17:19:33.007333Z",
     "iopub.status.idle": "2024-09-13T17:19:33.042591Z",
     "shell.execute_reply": "2024-09-13T17:19:33.041257Z"
    },
    "papermill": {
     "duration": 0.041137,
     "end_time": "2024-09-13T17:19:33.045301",
     "exception": false,
     "start_time": "2024-09-13T17:19:33.004164",
     "status": "completed"
    },
    "tags": []
   },
   "outputs": [],
   "source": [
    "df = df.sample(frac=1, random_state=2)"
   ]
  },
  {
   "cell_type": "code",
   "execution_count": 5,
   "id": "8c03c7b4",
   "metadata": {
    "execution": {
     "iopub.execute_input": "2024-09-13T17:19:33.053461Z",
     "iopub.status.busy": "2024-09-13T17:19:33.052596Z",
     "iopub.status.idle": "2024-09-13T17:19:36.289996Z",
     "shell.execute_reply": "2024-09-13T17:19:36.289232Z"
    },
    "papermill": {
     "duration": 3.243763,
     "end_time": "2024-09-13T17:19:36.292187",
     "exception": false,
     "start_time": "2024-09-13T17:19:33.048424",
     "status": "completed"
    },
    "tags": []
   },
   "outputs": [],
   "source": [
    "df.to_csv('output.csv')"
   ]
  }
 ],
 "metadata": {
  "kaggle": {
   "accelerator": "nvidiaTeslaT4",
   "dataSources": [
    {
     "datasetId": 5462317,
     "sourceId": 9058385,
     "sourceType": "datasetVersion"
    }
   ],
   "dockerImageVersionId": 30747,
   "isGpuEnabled": true,
   "isInternetEnabled": true,
   "language": "python",
   "sourceType": "notebook"
  },
  "kernelspec": {
   "display_name": "Python 3",
   "language": "python",
   "name": "python3"
  },
  "language_info": {
   "codemirror_mode": {
    "name": "ipython",
    "version": 3
   },
   "file_extension": ".py",
   "mimetype": "text/x-python",
   "name": "python",
   "nbconvert_exporter": "python",
   "pygments_lexer": "ipython3",
   "version": "3.10.13"
  },
  "papermill": {
   "default_parameters": {},
   "duration": 11.516567,
   "end_time": "2024-09-13T17:19:36.612515",
   "environment_variables": {},
   "exception": null,
   "input_path": "__notebook__.ipynb",
   "output_path": "__notebook__.ipynb",
   "parameters": {},
   "start_time": "2024-09-13T17:19:25.095948",
   "version": "2.5.0"
  }
 },
 "nbformat": 4,
 "nbformat_minor": 5
}
